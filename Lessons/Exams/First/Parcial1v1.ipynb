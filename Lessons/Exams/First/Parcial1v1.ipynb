{
 "cells": [
  {
   "cell_type": "markdown",
   "metadata": {},
   "source": [
    "# Primer Parcial\n",
    "\n",
    "## Instrucciones\n",
    "\n",
    "Este parcial consta de tres puntos. Lee cuidadosamente cada uno de los enunciados y resuelve cada ejercicio aplicando los principios de la programación orientada a objetos, cadenas y arreglos en Java. Asegúrate de que tu código sea claro, funcional y esté bien comentado para facilitar su comprensión.\n",
    "\n",
    "## Punto 1: Aplicación de los 4 Pilares de la Programación Orientada a Objetos (POO) [30 pts]\n",
    "\n",
    "Desarrolla una aplicación en Java donde se implemente una clase llamada **\"Producto\"** para simular la gestión de productos en una tienda. Debes utilizar los cuatro pilares fundamentales de la programación orientada a objetos: **abstracción**, **encapsulamiento**, **herencia**, y **polimorfismo**.\n",
    "\n",
    "- Crea una interfaz llamada `Item` que tenga los atributos `nombre` y `precio`, además de dos métodos abstractos `mostrarDetalles()` y `estaDisponible()`.\n",
    "- La clase `Producto` debe heredar de `Item` e incluir atributos como `categoria` y `cantidadEnStock`.\n",
    "- Utiliza encapsulamiento para proteger los atributos, permitiendo acceso a través de los métodos `getters` y `setters`.\n",
    "- Implementa una subclase llamada `ProductoElectronico` que sobrescriba el método `mostrarDetalles()` e incluya un atributo adicional `garantia`.\n",
    "- Aplica polimorfismo mostrando cómo un objeto de tipo `ProductoElectronico` puede ser tratado como un `Item`, verifica que las funciones `mostrarDetalles()` funciona y que da diferente resultados dependiendo el objeto que la llame.\n",
    "\n",
    "**Requisitos adicionales:**\n",
    "- Implementa un constructor en cada clase.\n",
    "- Instancia objetos en el método `main()` y muestra ejemplos de polimorfismo en acción.\n",
    "\n",
    "**Ejemplo de salida esperada:**\n",
    "```java\n",
    "Producto: Laptop, Precio: $1200, Categoría: Electrónica, Garantía: 2 años.\n",
    "Producto: Libro, Precio: $20, Categoría: Literatura.\n",
    "```"
   ]
  },
  {
   "cell_type": "code",
   "execution_count": null,
   "metadata": {},
   "outputs": [],
   "source": []
  },
  {
   "cell_type": "markdown",
   "metadata": {},
   "source": [
    "\n",
    "### **Punto 2: Manipulación de Cadenas [30 pts]**\n",
    "\n",
    "Desarrolla un programa en Java que permita a un usuario ingresar una cadena de texto y, con ella, realice las siguientes operaciones:\n",
    "\n",
    "1. **Eliminar espacios en blanco**: Implementa un método que elimine todos los espacios en blanco de la cadena ingresada.\n",
    "2. **Contar las vocales**: Implementa un método que cuente cuántas vocales (a, e, i, o, u) tiene la cadena.\n",
    "3. **Reemplazar caracteres**: Implementa un método que permita al usuario reemplazar una letra específica por otra.\n",
    "\n",
    "El programa debe interactuar con el usuario y mostrar los resultados para cada una de las operaciones. Usa los métodos de la clase `String` para manipular las cadenas.\n",
    "\n",
    "**Ejemplo de entrada:**\n",
    "```plaintext\n",
    "Ingresa una cadena: amor\n",
    "```\n",
    "\n",
    "**Ejemplo de salida esperada:**\n",
    "```plaintext\n",
    "Cadena sin espacios: amor\n",
    "Número de vocales: 2\n",
    "\n",
    "Ingresa una letra para reemplazar: a\n",
    "Ingresa la nueva letra: e\n",
    "Cadena modificada: emor\n",
    "```\n",
    "\n"
   ]
  },
  {
   "cell_type": "code",
   "execution_count": null,
   "metadata": {},
   "outputs": [],
   "source": []
  },
  {
   "cell_type": "markdown",
   "metadata": {},
   "source": [
    "## Punto 3: Arreglos Bidimensionales y Búsquedas [40 pts]\n",
    "\n",
    "En este ejercicio, debes crear un programa para gestionar las ventas de productos en una tienda. Implementa un sistema que use un **arreglo bidimensional** para almacenar las ventas de productos por día de la semana, donde cada fila corresponde a un producto y cada columna a un día de la semana.\n",
    "\n",
    "1. Declara un arreglo bidimensional donde las filas representen productos y las columnas las ventas diarias:\n",
    "   ```java\n",
    "   int[][] ventas = {\n",
    "       {12, 15, 20, 10, 25, 30, 40}, // ProductoA\n",
    "       {5, 7, 8, 6, 10, 11, 15},     // ProductoA\n",
    "       {3, 4, 2, 5, 6, 8, 9}         // ProductoA\n",
    "   };\n",
    "   // este codigo es equivalente a\n",
    "   int[] ProductoA = {12, 15, 20, 10, 25, 30, 40};\n",
    "   int[] ProductoB = {5, 7, 8, 6, 10, 11, 15};\n",
    "   int[] ProductoC = {3, 4, 2, 5, 6, 8, 9};\n",
    "   ```\n",
    "   \n",
    "2. **Implementa un método** que calcule el total de ventas por producto durante la semana.\n",
    "   \n",
    "3. **Implementa un método** para encontrar el día en que se registraron las mayores ventas para cada producto.\n",
    "   \n",
    "4. **Implementa un método de búsqueda** que permita encontrar cuántas ventas de un producto específico hubo en un día dado, devolviendo la posición (producto, día). Si no se encuentra, el programa debe informarlo.\n",
    "\n",
    "5. **Crea un menú** para que el usuario pueda:\n",
    "   - Calcular el total de ventas por producto durante la semana.\n",
    "   - Mostrar el día con mayores ventas por producto.\n",
    "   - Buscar el número de ventas de un producto en un día específico.\n",
    "\n",
    "**Ejemplo de salida esperada:**\n",
    "```plaintext\n",
    "Menú:\n",
    "1. Calcular total de ventas por producto\n",
    "2. Mostrar día con mayores ventas por producto\n",
    "Opción: 1\n",
    "\n",
    "Total de ventas para el Producto 1: 152\n",
    "Total de ventas para el Producto 2: 62\n",
    "Total de ventas para el Producto 3: 37\n",
    "```"
   ]
  },
  {
   "cell_type": "code",
   "execution_count": null,
   "metadata": {},
   "outputs": [],
   "source": []
  },
  {
   "cell_type": "markdown",
   "metadata": {},
   "source": [
    "## Criterios de Evaluación:\n",
    "- Correcta aplicación de los conceptos de POO, manejo de cadenas y arreglos bidimensionales en Java.\n",
    "- Uso adecuado de las estructuras de control y los métodos de manipulación de datos en Java.\n",
    "- Claridad y organización del código.\n",
    "- Uso de comentarios explicativos en cada parte del código.\n",
    "\n",
    "¡Éxito en el parcial!"
   ]
  }
 ],
 "metadata": {
  "kernelspec": {
   "display_name": "Java",
   "language": "java",
   "name": "java"
  },
  "language_info": {
   "name": "java"
  }
 },
 "nbformat": 4,
 "nbformat_minor": 2
}
