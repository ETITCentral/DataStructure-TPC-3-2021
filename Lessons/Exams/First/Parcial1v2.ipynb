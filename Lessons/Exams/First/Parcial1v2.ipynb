{
 "cells": [
  {
   "cell_type": "markdown",
   "metadata": {},
   "source": [
    "# Primer Parcial\n",
    "\n",
    "## Instrucciones\n",
    "Este examen está compuesto por tres puntos. Responde cada pregunta aplicando los conceptos de programación orientada a objetos, cadenas y arreglos en Java. Procura que tu código sea legible, bien estructurado y funcional. No olvides comentar cada sección de tu código explicando qué hace cada parte.\n",
    "\n",
    "## Punto 1: Aplicación de los 4 Pilares de la Programación Orientada a Objetos (POO) [30 pts]\n",
    "\n",
    "Crea una clase llamada **\"Empleado\"** que represente a un empleado de una empresa. La clase debe implementar los cuatro pilares de la programación orientada a objetos: **abstracción**, **encapsulamiento**, **herencia**, y **polimorfismo**. Debes cumplir los siguientes requisitos:\n",
    "\n",
    "- Crea una interfaz llamada `Persona` que tenga los atributos `nombre`, `edad`, y los métodos abstractos `trabajar()` y `mostrarInformacion()`.\n",
    "- La clase `Empleado` debe heredar de `Persona` y agregar los atributos `salario` y `puesto`.\n",
    "- Implementa los métodos necesarios para aplicar encapsulamiento, asegurando que los atributos sean privados y se puedan acceder o modificar a través de métodos `getters` y `setters`.\n",
    "- Crea una subclase de `Empleado` llamada `EmpleadoPorHora` que sobrescriba el método `trabajar()` y calcule el salario basado en horas trabajadas. Este método debe pedir las horas y estas deben pasarse por su argumento.\n",
    "- Implementa polimorfismo mostrando un caso donde un objeto de tipo `EmpleadoPorHora` pueda ser tratado como una `Persona`, es decir, verifica que el método `trabajar()` funciona de diferente modo.\n",
    "\n",
    "**Requisitos adicionales:**\n",
    "- Agrega un constructor en cada clase.\n",
    "- Instancia objetos en el método `main()` y muestra ejemplos de polimorfismo.\n",
    "\n",
    "**Ejemplo de salida esperada:**\n",
    "```java\n",
    "Empleado: Carlos, Edad: 30, Salario: 3000. Puesto: Desarrollador.\n",
    "Empleado por hora: Ana, Edad: 25, Salario: 1200 por 40 horas trabajadas.\n",
    "```"
   ]
  },
  {
   "cell_type": "code",
   "execution_count": null,
   "metadata": {},
   "outputs": [],
   "source": []
  },
  {
   "cell_type": "markdown",
   "metadata": {},
   "source": [
    "## Punto 2: Manipulación de Cadenas [30 pts]\n",
    "\n",
    "Escribe un programa en Java que permita a un usuario ingresar una frase y, a partir de ella, realice las siguientes operaciones:\n",
    "\n",
    "1. **Invertir la frase**: Implementa un método que invierta la cadena de entrada.\n",
    "2. **Validar si la frase es un palíndromo**: Crea un método que determine si la frase (ignorando espacios y mayúsculas/minúsculas) es un [palíndromo](https://es.wikipedia.org/wiki/Pal%C3%ADndromo).\n",
    "\n",
    "El programa debe interactuar con el usuario y mostrar los resultados para cada una de las operaciones. Usa la clase `String` y sus métodos asociados para manipular las cadenas.\n",
    "\n",
    "**Ejemplo de entrada:**\n",
    "```plaintext\n",
    "Ingresa una frase: Anilina ama a anilina\n",
    "```\n",
    "\n",
    "**Ejemplo de salida esperada:**\n",
    "```plaintext\n",
    "Frase invertida: anilina a ama anilina\n",
    "Es un palíndromo: Sí\n",
    "```\n"
   ]
  },
  {
   "cell_type": "code",
   "execution_count": null,
   "metadata": {},
   "outputs": [],
   "source": []
  },
  {
   "cell_type": "markdown",
   "metadata": {},
   "source": [
    "\n",
    "### **Punto 3: Arreglos Bidimensionales y Búsquedas [40 pts]**\n",
    "\n",
    "Tienes que diseñar un sistema para gestionar las calificaciones de un grupo de estudiantes. Se requiere que crees un programa en Java que permita lo siguiente:\n",
    "\n",
    "1. Declara un **arreglo bidimensional** de enteros donde las filas representen estudiantes y las columnas representen calificaciones en tres asignaturas.\n",
    "   ```java\n",
    "   int[][] calificaciones = {\n",
    "       {85, 78, 92},  // EstudianteA\n",
    "       {76, 85, 83},  // EstudianteB\n",
    "       {90, 88, 91},  // EstudianteC\n",
    "       {70, 60, 75}   // EstudianteD\n",
    "   };\n",
    "   // otra forma del código\n",
    "   int[] EstudianteA = {85, 78, 92}; \n",
    "   int[] EstudianteA = {76, 85, 83};\n",
    "   int[] EstudianteA = {90, 88, 91};\n",
    "   int[] EstudianteA = {70, 60, 75};\n",
    "   ```\n",
    "   \n",
    "2. **Implementa un método** que permita calcular el promedio de cada estudiante.\n",
    "      \n",
    "3. **Implementa un método de búsqueda** que permita buscar una calificación específica y retornar la posición (fila, columna) en la que se encuentra dicha calificación. Si no se encuentra, el método debe indicarlo.\n",
    "\n",
    "4. **Agrega un menú** que permita al usuario:\n",
    "   - Calcular el promedio de todos los estudiantes.\n",
    "   - Buscar una calificación específica en el sistema.\n",
    "\n",
    "**Ejemplo de salida esperada:**\n",
    "```plaintext\n",
    "Menú:\n",
    "1. Calcular promedio por estudiante\n",
    "2. Buscar calificación\n",
    "Opción: 1\n",
    "\n",
    "Promedio de Estudiante 1: 85\n",
    "Promedio de Estudiante 2: 81\n",
    "Promedio de Estudiante 3: 89.6\n",
    "Promedio de Estudiante 4: 68.3\n",
    "```"
   ]
  },
  {
   "cell_type": "code",
   "execution_count": null,
   "metadata": {},
   "outputs": [],
   "source": []
  },
  {
   "cell_type": "markdown",
   "metadata": {},
   "source": [
    "## Criterios de Evaluación\n",
    "- Correcta implementación de los conceptos de programación orientada a objetos, cadenas y arreglos.\n",
    "- Uso adecuado de las estructuras y métodos en Java.\n",
    "- Claridad en el código y la salida.\n",
    "- Documentación y comentarios en el código.\n",
    "\n",
    "¡Buena suerte!"
   ]
  }
 ],
 "metadata": {
  "kernelspec": {
   "display_name": "Java",
   "language": "java",
   "name": "java"
  },
  "language_info": {
   "name": "java"
  }
 },
 "nbformat": 4,
 "nbformat_minor": 2
}
